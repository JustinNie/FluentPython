{
 "cells": [
  {
   "cell_type": "markdown",
   "metadata": {},
   "source": [
    "# <center>流畅的Python</center>\n",
    "## 第二章 序列构成的数组\n",
    "### 1. 列表推导和生成器表达式\n",
    "**示例2-1 把一个字符串变成Unicode码位的列表**"
   ]
  },
  {
   "cell_type": "code",
   "execution_count": 1,
   "metadata": {},
   "outputs": [
    {
     "name": "stdout",
     "output_type": "stream",
     "text": [
      "[36, 8364, 165, 162, 163, 8375]\n"
     ]
    }
   ],
   "source": [
    "symbols = '$€¥¢£₷'\n",
    "codes = []\n",
    "for symbol in symbols:\n",
    "    codes.append(ord(symbol))\n",
    "print(codes)"
   ]
  },
  {
   "cell_type": "markdown",
   "metadata": {},
   "source": [
    "**示例2-2 把字符串变成Unicode码位的另外一种写法**"
   ]
  },
  {
   "cell_type": "code",
   "execution_count": 2,
   "metadata": {},
   "outputs": [
    {
     "name": "stdout",
     "output_type": "stream",
     "text": [
      "[36, 8364, 165, 162, 163, 8375]\n"
     ]
    }
   ],
   "source": [
    "symbols = '$€¥¢£₷'\n",
    "codes = [ord(symbol) for symbol in symbols]\n",
    "print(codes)"
   ]
  },
  {
   "cell_type": "markdown",
   "metadata": {},
   "source": [
    "**示例2-3 用列表推导和map/filter组合来创建同样的表单**"
   ]
  },
  {
   "cell_type": "code",
   "execution_count": 4,
   "metadata": {},
   "outputs": [
    {
     "name": "stdout",
     "output_type": "stream",
     "text": [
      "[8364, 165, 162, 163, 8375]\n",
      "[8364, 165, 162, 163, 8375]\n"
     ]
    }
   ],
   "source": [
    "symbols = '$€¥¢£₷'\n",
    "beyond_ascii1 = [ord(symbol) for symbol in symbols if(ord(symbol) > 127)]\n",
    "print(beyond_ascii1)\n",
    "\n",
    "beyond_ascii2 = list(filter(lambda c: c>127, map(ord, symbols)))\n",
    "print(beyond_ascii2)"
   ]
  },
  {
   "cell_type": "markdown",
   "metadata": {},
   "source": [
    "**示例2-4 是用列表推导计算笛卡尔积**"
   ]
  },
  {
   "cell_type": "code",
   "execution_count": 5,
   "metadata": {},
   "outputs": [
    {
     "name": "stdout",
     "output_type": "stream",
     "text": [
      "[('black', 'S'), ('black', 'M'), ('black', 'L'), ('white', 'S'), ('white', 'M'), ('white', 'L')]\n",
      "\n",
      "\n",
      "[('black', 'S'), ('white', 'S'), ('black', 'M'), ('white', 'M'), ('black', 'L'), ('white', 'L')]\n"
     ]
    }
   ],
   "source": [
    "colors = ['black', 'white']\n",
    "sizes = ['S', 'M', 'L']\n",
    "tshirts = [(color, size) for color in colors for size in sizes]\n",
    "print(tshirts)\n",
    "\n",
    "tshirts = [(color, size) for size in sizes for color in colors]\n",
    "print('\\n')\n",
    "print(tshirts)"
   ]
  },
  {
   "cell_type": "markdown",
   "metadata": {},
   "source": [
    "**示例2-5 用生成器表达式初始化元组和数组**"
   ]
  },
  {
   "cell_type": "code",
   "execution_count": 6,
   "metadata": {},
   "outputs": [
    {
     "name": "stdout",
     "output_type": "stream",
     "text": [
      "(36, 8364, 165, 162, 163, 8375)\n",
      "array('I', [36, 8364, 165, 162, 163, 8375])\n"
     ]
    }
   ],
   "source": [
    "symbols = '$€¥¢£₷'\n",
    "print(tuple(ord(symbol) for symbol in symbols))\n",
    "\n",
    "from array import array\n",
    "print(array('I', (ord(symbol) for symbol in symbols)))"
   ]
  },
  {
   "cell_type": "markdown",
   "metadata": {},
   "source": [
    "**示例2-6 使用生成器表达式计算笛卡尔积**"
   ]
  },
  {
   "cell_type": "code",
   "execution_count": 7,
   "metadata": {},
   "outputs": [
    {
     "name": "stdout",
     "output_type": "stream",
     "text": [
      "('black', 'S')\n",
      "('black', 'M')\n",
      "('black', 'L')\n",
      "('white', 'S')\n",
      "('white', 'M')\n",
      "('white', 'L')\n"
     ]
    }
   ],
   "source": [
    "colors = ['black', 'white']\n",
    "sizes = ['S', 'M', 'L']\n",
    "for tshirt in ((color, size) for color in colors for size in sizes):\n",
    "    print(tshirt)"
   ]
  },
  {
   "cell_type": "markdown",
   "metadata": {},
   "source": [
    "### 2. 元组"
   ]
  },
  {
   "cell_type": "markdown",
   "metadata": {},
   "source": [
    "**示例2-7 把元组用做记录**"
   ]
  },
  {
   "cell_type": "code",
   "execution_count": 8,
   "metadata": {},
   "outputs": [
    {
     "name": "stdout",
     "output_type": "stream",
     "text": [
      "BRA / CE342567\n",
      "ESP / XDA205856\n",
      "USA / 31195855\n",
      "\n",
      "\n",
      "USA\n",
      "BRA\n",
      "ESP\n"
     ]
    }
   ],
   "source": [
    "lax_coordinates = (33.9425, -118.408056)\n",
    "city, year, pop, chg, area = ('Tokyo', 2003, 32450, 0.66, 8014)\n",
    "traveler_ids = [('USA', '31195855'), ('BRA', 'CE342567'), ('ESP', 'XDA205856')]\n",
    "for passort in sorted(traveler_ids):\n",
    "    print('%s / %s' % passort)\n",
    "print('\\n')\n",
    "for country, _ in traveler_ids:\n",
    "    print(country)\n"
   ]
  },
  {
   "cell_type": "markdown",
   "metadata": {},
   "source": [
    "**元组拆包示例**"
   ]
  },
  {
   "cell_type": "code",
   "execution_count": 11,
   "metadata": {},
   "outputs": [
    {
     "name": "stdout",
     "output_type": "stream",
     "text": [
      "33.9425 -118.408056 \n",
      "\n",
      "b a \n",
      "\n",
      "(2, 4)\n",
      "2 4 \n",
      "\n"
     ]
    }
   ],
   "source": [
    "lax_coordinates = (33.9425, -118.408056)\n",
    "latitude, longitude = lax_coordinates\n",
    "print(latitude, longitude, '\\n')\n",
    "\n",
    "a, b = 'a', 'b'\n",
    "a, b = b, a\n",
    "print(a, b, '\\n')\n",
    "\n",
    "print(divmod(20, 8))\n",
    "t = (20, 8)\n",
    "#quotient, reminder = divmod(t)\n",
    "quotient, reminder = divmod(*t)\n",
    "print(quotient, reminder, '\\n')"
   ]
  },
  {
   "cell_type": "markdown",
   "metadata": {},
   "source": [
    "**用*来处理剩下的元素**"
   ]
  },
  {
   "cell_type": "code",
   "execution_count": 13,
   "metadata": {},
   "outputs": [
    {
     "name": "stdout",
     "output_type": "stream",
     "text": [
      "0 1 [2, 3, 4]\n",
      "0 1 [2]\n",
      "0 1 []\n",
      "0 [1, 2] 3 4\n",
      "[0, 1] 2 3 4\n"
     ]
    }
   ],
   "source": [
    "a, b, *rest = range(5)\n",
    "print(a, b, rest)\n",
    "\n",
    "a, b, *rest = range(3)\n",
    "print(a, b, rest)\n",
    "\n",
    "a, b, *rest = range(2)\n",
    "print(a, b, rest)\n",
    "\n",
    "a, *body, c, d = range(5)\n",
    "print(a, body, c, d)\n",
    "\n",
    "*head, b, c, d = range(5)\n",
    "print(head, b, c, d)"
   ]
  },
  {
   "cell_type": "markdown",
   "metadata": {},
   "source": []
  }
 ],
 "metadata": {
  "kernelspec": {
   "display_name": "Python 3",
   "language": "python",
   "name": "python3"
  },
  "language_info": {
   "codemirror_mode": {
    "name": "ipython",
    "version": 3
   },
   "file_extension": ".py",
   "mimetype": "text/x-python",
   "name": "python",
   "nbconvert_exporter": "python",
   "pygments_lexer": "ipython3",
   "version": "3.6.4"
  }
 },
 "nbformat": 4,
 "nbformat_minor": 2
}
