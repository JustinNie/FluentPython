{
 "cells": [
  {
   "cell_type": "markdown",
   "metadata": {},
   "source": [
    "# <center> 流畅的Python </center>\n",
    "## 第十四章：可迭代的对象、迭代器和生成器\n",
    "**示例14-1 把句子划分为单词序列**"
   ]
  },
  {
   "cell_type": "code",
   "execution_count": 1,
   "metadata": {},
   "outputs": [],
   "source": [
    "import re\n",
    "import reprlib\n",
    "\n",
    "RE_WORD = re.compile('\\w+')\n",
    "\n",
    "class Sentence:\n",
    "    \n",
    "    def __init__(self, text):\n",
    "        self.text = text\n",
    "        self.words = RE_WORD.findall(text)\n",
    "        \n",
    "    def __getitem__(self, index):\n",
    "        return self.words[index]\n",
    "    \n",
    "    def __len__(self):\n",
    "        return len(self.words)\n",
    "    \n",
    "    def __repr__(self):\n",
    "        return 'Sentence(%s)' % reprlib.repr(self.text)\n",
    "    \n",
    "    "
   ]
  },
  {
   "cell_type": "markdown",
   "metadata": {},
   "source": [
    "**示例14-2 测试Sentence实例能否迭代**"
   ]
  },
  {
   "cell_type": "code",
   "execution_count": 5,
   "metadata": {},
   "outputs": [
    {
     "name": "stdout",
     "output_type": "stream",
     "text": [
      "Sentence('The time has...Walrus said, ')\n",
      "The\n",
      "time\n",
      "has\n",
      "come\n",
      "the\n",
      "Walrus\n",
      "said\n",
      "['The', 'time', 'has', 'come', 'the', 'Walrus', 'said']\n",
      "The\n"
     ]
    }
   ],
   "source": [
    "s = Sentence('The time has come, the Walrus said, ')\n",
    "print(s)\n",
    "for word in s:\n",
    "    print(word)\n",
    "print(list(s))\n",
    "print(s[0])"
   ]
  },
  {
   "cell_type": "markdown",
   "metadata": {},
   "source": [
    "**可迭代对象和迭代器的对比**"
   ]
  },
  {
   "cell_type": "code",
   "execution_count": 6,
   "metadata": {},
   "outputs": [
    {
     "name": "stdout",
     "output_type": "stream",
     "text": [
      "A\n",
      "B\n",
      "C\n",
      "\n",
      "\n",
      "A\n",
      "B\n",
      "C\n"
     ]
    }
   ],
   "source": [
    "s = 'ABC'\n",
    "for ch in s:\n",
    "    print(ch)\n",
    "print('\\n')\n",
    "\n",
    "it = iter(s)\n",
    "while(True):\n",
    "    try:\n",
    "        print(next(it))\n",
    "    except StopIteration:\n",
    "        del(it)\n",
    "        break"
   ]
  },
  {
   "cell_type": "markdown",
   "metadata": {},
   "source": [
    "**示例14-3 abc.Iterator类**"
   ]
  },
  {
   "cell_type": "code",
   "execution_count": 9,
   "metadata": {},
   "outputs": [
    {
     "ename": "NameError",
     "evalue": "name 'abstractmethod' is not defined",
     "output_type": "error",
     "traceback": [
      "\u001b[0;31m---------------------------------------------------------------------------\u001b[0m",
      "\u001b[0;31mNameError\u001b[0m                                 Traceback (most recent call last)",
      "\u001b[0;32m<ipython-input-9-bb9ba4e03d70>\u001b[0m in \u001b[0;36m<module>\u001b[0;34m()\u001b[0m\n\u001b[1;32m      1\u001b[0m \u001b[0;32mfrom\u001b[0m \u001b[0mcollections\u001b[0m\u001b[0;34m.\u001b[0m\u001b[0mabc\u001b[0m \u001b[0;32mimport\u001b[0m \u001b[0mIterable\u001b[0m\u001b[0;34m\u001b[0m\u001b[0m\n\u001b[1;32m      2\u001b[0m \u001b[0;34m\u001b[0m\u001b[0m\n\u001b[0;32m----> 3\u001b[0;31m \u001b[0;32mclass\u001b[0m \u001b[0mIterator\u001b[0m\u001b[0;34m(\u001b[0m\u001b[0mIterable\u001b[0m\u001b[0;34m)\u001b[0m\u001b[0;34m:\u001b[0m\u001b[0;34m\u001b[0m\u001b[0m\n\u001b[0m\u001b[1;32m      4\u001b[0m \u001b[0;34m\u001b[0m\u001b[0m\n\u001b[1;32m      5\u001b[0m     \u001b[0m__slots__\u001b[0m \u001b[0;34m=\u001b[0m \u001b[0;34m(\u001b[0m\u001b[0;34m)\u001b[0m\u001b[0;34m\u001b[0m\u001b[0m\n",
      "\u001b[0;32m<ipython-input-9-bb9ba4e03d70>\u001b[0m in \u001b[0;36mIterator\u001b[0;34m()\u001b[0m\n\u001b[1;32m      5\u001b[0m     \u001b[0m__slots__\u001b[0m \u001b[0;34m=\u001b[0m \u001b[0;34m(\u001b[0m\u001b[0;34m)\u001b[0m\u001b[0;34m\u001b[0m\u001b[0m\n\u001b[1;32m      6\u001b[0m \u001b[0;34m\u001b[0m\u001b[0m\n\u001b[0;32m----> 7\u001b[0;31m     \u001b[0;34m@\u001b[0m\u001b[0mabstractmethod\u001b[0m\u001b[0;34m\u001b[0m\u001b[0m\n\u001b[0m\u001b[1;32m      8\u001b[0m     \u001b[0;32mdef\u001b[0m \u001b[0m__next__\u001b[0m\u001b[0;34m(\u001b[0m\u001b[0mself\u001b[0m\u001b[0;34m)\u001b[0m\u001b[0;34m:\u001b[0m\u001b[0;34m\u001b[0m\u001b[0m\n\u001b[1;32m      9\u001b[0m         \u001b[0;34m'return the next item from the iterator. When exhausted, raise StopIteration'\u001b[0m\u001b[0;34m\u001b[0m\u001b[0m\n",
      "\u001b[0;31mNameError\u001b[0m: name 'abstractmethod' is not defined"
     ]
    }
   ],
   "source": [
    "from collections.abc import Iterable\n",
    "\n",
    "class Iterator(Iterable):\n",
    "\n",
    "    __slots__ = ()\n",
    "\n",
    "    @abstractmethod\n",
    "    def __next__(self):\n",
    "        'return the next item from the iterator. When exhausted, raise StopIteration'\n",
    "        raise StopIteration\n",
    "        \n",
    "    def __iter__(self):\n",
    "        return self\n",
    "    \n",
    "    @classmethod\n",
    "    def __subclasshook__(cls, C):\n",
    "        if(cls is Iterator):\n",
    "            if(any('__next__' in B.__dict__ for B in C.__mro__) and \n",
    "               any('__iter__' in B.__dict__ for B in C.__mro__)):\n",
    "                return True\n",
    "        return NotImplemented\n",
    "    "
   ]
  },
  {
   "cell_type": "markdown",
   "metadata": {},
   "source": [
    "**构建迭代器**"
   ]
  },
  {
   "cell_type": "code",
   "execution_count": 11,
   "metadata": {},
   "outputs": [
    {
     "name": "stdout",
     "output_type": "stream",
     "text": [
      "<iterator object at 0x10f3db128>\n",
      "Pig\n",
      "and\n",
      "Pepper\n",
      "[]\n",
      "['Pig', 'and', 'Pepper']\n"
     ]
    }
   ],
   "source": [
    "s3 = Sentence('Pig and Pepper')\n",
    "it = iter(s3)\n",
    "print(it)\n",
    "print(next(it))\n",
    "print(next(it))\n",
    "print(next(it))\n",
    "#print(next(it))\n",
    "print(list(it))\n",
    "print(list(iter(s3)))"
   ]
  },
  {
   "cell_type": "markdown",
   "metadata": {},
   "source": [
    "**示例14.4 使用迭代器模式实现Sentence类**"
   ]
  },
  {
   "cell_type": "code",
   "execution_count": 14,
   "metadata": {},
   "outputs": [],
   "source": [
    "import re\n",
    "import reprlib\n",
    "\n",
    "RE_WORD = re.compile('\\w+')\n",
    "\n",
    "class Sentence:\n",
    "    def __init__(self, text):\n",
    "        self.text = text\n",
    "        self.words = RE_WORD.findall(text)\n",
    "        \n",
    "    def __getitem__(self, index):\n",
    "        return self.words[index]\n",
    "        \n",
    "    def __repr__(self):\n",
    "        return 'Sentence(%s)' % reprlib.repr(self.text)\n",
    "    \n",
    "    def __iter__(self):\n",
    "        return SentenceIterator(self.words)\n",
    "    \n",
    "class SentenceIterator:\n",
    "    def __init__(self, words):\n",
    "        self.words = words\n",
    "        self.index = 0\n",
    "        \n",
    "    def __next__(self):\n",
    "        try:\n",
    "            word = self.words[self.index]\n",
    "        except IndexError:\n",
    "            raise StopIteration()\n",
    "        self.index += 1\n",
    "        return word\n",
    "    \n",
    "    def __iter__(self):\n",
    "        return self"
   ]
  },
  {
   "cell_type": "markdown",
   "metadata": {},
   "source": [
    "**测试**"
   ]
  },
  {
   "cell_type": "code",
   "execution_count": 15,
   "metadata": {},
   "outputs": [
    {
     "name": "stdout",
     "output_type": "stream",
     "text": [
      "Sentence('The time has...Walrus said, ')\n",
      "The\n",
      "time\n",
      "has\n",
      "come\n",
      "the\n",
      "Walrus\n",
      "said\n",
      "['The', 'time', 'has', 'come', 'the', 'Walrus', 'said']\n",
      "The\n"
     ]
    }
   ],
   "source": [
    "s = Sentence('The time has come, the Walrus said, ')\n",
    "print(s)\n",
    "for word in s:\n",
    "    print(word)\n",
    "print(list(s))\n",
    "print(s[0])"
   ]
  },
  {
   "cell_type": "markdown",
   "metadata": {},
   "source": [
    "**示例14-5 使用生成器函数实现Sentence类**"
   ]
  },
  {
   "cell_type": "code",
   "execution_count": 16,
   "metadata": {},
   "outputs": [],
   "source": [
    "import re\n",
    "import reprlib\n",
    "\n",
    "RE_WORD = re.compile('\\w+')\n",
    "\n",
    "class Sentence:\n",
    "    def __init__(self, text):\n",
    "        self.text = text\n",
    "        self.words = RE_WORD.findall(text)\n",
    "        \n",
    "    def __getitem__(self, index):\n",
    "        return self.words[index]\n",
    "        \n",
    "    def __repr__(self):\n",
    "        return 'Sentence(%s)' % reprlib.repr(self.text)\n",
    "    \n",
    "    def __iter__(self):\n",
    "        for word in self.words:\n",
    "            yield word"
   ]
  },
  {
   "cell_type": "markdown",
   "metadata": {},
   "source": [
    "**测试**"
   ]
  },
  {
   "cell_type": "code",
   "execution_count": 17,
   "metadata": {},
   "outputs": [
    {
     "name": "stdout",
     "output_type": "stream",
     "text": [
      "Sentence('The time has...Walrus said, ')\n",
      "The\n",
      "time\n",
      "has\n",
      "come\n",
      "the\n",
      "Walrus\n",
      "said\n",
      "['The', 'time', 'has', 'come', 'the', 'Walrus', 'said']\n",
      "The\n"
     ]
    }
   ],
   "source": [
    "s = Sentence('The time has come, the Walrus said, ')\n",
    "print(s)\n",
    "for word in s:\n",
    "    print(word)\n",
    "print(list(s))\n",
    "print(s[0])"
   ]
  },
  {
   "cell_type": "markdown",
   "metadata": {},
   "source": [
    "**说明生成器的行为**"
   ]
  },
  {
   "cell_type": "code",
   "execution_count": 18,
   "metadata": {},
   "outputs": [
    {
     "name": "stdout",
     "output_type": "stream",
     "text": [
      "<function gen123 at 0x10f4f2f28>\n",
      "<generator object gen123 at 0x10f4dd7d8>\n",
      "1\n",
      "2\n",
      "3\n",
      "\n",
      "\n",
      "1\n",
      "2\n",
      "3\n"
     ]
    },
    {
     "ename": "StopIteration",
     "evalue": "",
     "output_type": "error",
     "traceback": [
      "\u001b[0;31m---------------------------------------------------------------------------\u001b[0m",
      "\u001b[0;31mStopIteration\u001b[0m                             Traceback (most recent call last)",
      "\u001b[0;32m<ipython-input-18-fc0201700e10>\u001b[0m in \u001b[0;36m<module>\u001b[0;34m()\u001b[0m\n\u001b[1;32m     14\u001b[0m \u001b[0mprint\u001b[0m\u001b[0;34m(\u001b[0m\u001b[0mnext\u001b[0m\u001b[0;34m(\u001b[0m\u001b[0mg\u001b[0m\u001b[0;34m)\u001b[0m\u001b[0;34m)\u001b[0m\u001b[0;34m\u001b[0m\u001b[0m\n\u001b[1;32m     15\u001b[0m \u001b[0mprint\u001b[0m\u001b[0;34m(\u001b[0m\u001b[0mnext\u001b[0m\u001b[0;34m(\u001b[0m\u001b[0mg\u001b[0m\u001b[0;34m)\u001b[0m\u001b[0;34m)\u001b[0m\u001b[0;34m\u001b[0m\u001b[0m\n\u001b[0;32m---> 16\u001b[0;31m \u001b[0mprint\u001b[0m\u001b[0;34m(\u001b[0m\u001b[0mnext\u001b[0m\u001b[0;34m(\u001b[0m\u001b[0mg\u001b[0m\u001b[0;34m)\u001b[0m\u001b[0;34m)\u001b[0m\u001b[0;34m\u001b[0m\u001b[0m\n\u001b[0m",
      "\u001b[0;31mStopIteration\u001b[0m: "
     ]
    }
   ],
   "source": [
    "def gen123():\n",
    "    yield 1\n",
    "    yield 2\n",
    "    yield 3\n",
    "    \n",
    "print(gen123)\n",
    "print(gen123())\n",
    "for i in gen123():\n",
    "    print(i)\n",
    "print('\\n')\n",
    "\n",
    "g = gen123()\n",
    "print(next(g))\n",
    "print(next(g))\n",
    "print(next(g))\n",
    "print(next(g))"
   ]
  },
  {
   "cell_type": "markdown",
   "metadata": {},
   "source": [
    "**示例14-6 运行时打印消息的生成器函数**"
   ]
  },
  {
   "cell_type": "code",
   "execution_count": 19,
   "metadata": {},
   "outputs": [
    {
     "name": "stdout",
     "output_type": "stream",
     "text": [
      "start\n",
      "-->  A \n",
      "\n",
      "continue\n",
      "-->  B \n",
      "\n",
      "end\n"
     ]
    }
   ],
   "source": [
    "def genAB():\n",
    "    print('start')\n",
    "    yield 'A'\n",
    "    print('continue')\n",
    "    yield 'B'\n",
    "    print('end')\n",
    "    \n",
    "for c in genAB():\n",
    "    print('--> ', c, '\\n')"
   ]
  },
  {
   "cell_type": "markdown",
   "metadata": {},
   "source": [
    "**示例14-7 在生成器函数中调用re.finditer生成器函数**"
   ]
  },
  {
   "cell_type": "code",
   "execution_count": 20,
   "metadata": {},
   "outputs": [],
   "source": [
    "import re\n",
    "import reprlib\n",
    "\n",
    "RE_WORD = re.compile('\\w+')\n",
    "\n",
    "class Sentence:\n",
    "    def __init__(self, text):\n",
    "        self.text = text\n",
    "        \n",
    "    def __repr__(self):\n",
    "        return 'Sentence(%s)' % reprlib.repr(self.text)\n",
    "    \n",
    "    def __iter__(self):\n",
    "        for word in RE_WORD.finditer(self.text):\n",
    "            yield word.group()"
   ]
  },
  {
   "cell_type": "markdown",
   "metadata": {},
   "source": [
    "**测试**"
   ]
  },
  {
   "cell_type": "code",
   "execution_count": 21,
   "metadata": {},
   "outputs": [
    {
     "name": "stdout",
     "output_type": "stream",
     "text": [
      "Sentence('The time has...Walrus said, ')\n",
      "The\n",
      "time\n",
      "has\n",
      "come\n",
      "the\n",
      "Walrus\n",
      "said\n",
      "['The', 'time', 'has', 'come', 'the', 'Walrus', 'said']\n"
     ]
    }
   ],
   "source": [
    "s = Sentence('The time has come, the Walrus said, ')\n",
    "print(s)\n",
    "for word in s:\n",
    "    print(word)\n",
    "print(list(s))"
   ]
  },
  {
   "cell_type": "markdown",
   "metadata": {},
   "source": [
    "**示例14-8 生成器表达式**"
   ]
  },
  {
   "cell_type": "code",
   "execution_count": 24,
   "metadata": {},
   "outputs": [
    {
     "name": "stdout",
     "output_type": "stream",
     "text": [
      "start\n",
      "continue\n",
      "end\n",
      "\n",
      "\n",
      "--> AAA\n",
      "--> BBB\n",
      "\n",
      "\n",
      "start\n",
      "--> AAA \n",
      "\n",
      "continue\n",
      "--> BBB \n",
      "\n",
      "end\n"
     ]
    }
   ],
   "source": [
    "def genAB():\n",
    "    print('start')\n",
    "    yield 'A'\n",
    "    print('continue')\n",
    "    yield 'B'\n",
    "    print('end')\n",
    "    \n",
    "res1 = [x*3 for x in genAB()]\n",
    "print('\\n')\n",
    "for i in res1:\n",
    "    print('-->', i)\n",
    "\n",
    "print('\\n')\n",
    "res2 = (x*3 for x in genAB())\n",
    "for i in res2:\n",
    "    print('-->', i, '\\n')"
   ]
  },
  {
   "cell_type": "markdown",
   "metadata": {},
   "source": [
    "**示例14-9 使用生成器表达式实现**"
   ]
  },
  {
   "cell_type": "code",
   "execution_count": 25,
   "metadata": {},
   "outputs": [],
   "source": [
    "import re\n",
    "import reprlib\n",
    "\n",
    "RE_WORD = re.compile('\\w+')\n",
    "\n",
    "class Sentence:\n",
    "    def __init__(self, text):\n",
    "        self.text = text\n",
    "        \n",
    "    def __repr__(self):\n",
    "        return 'Sentence(%s)' % reprlib.repr(self.text)\n",
    "    \n",
    "    def __iter__(self):\n",
    "        return (match.group() for match in RE_WORD.finditer(self.text))"
   ]
  },
  {
   "cell_type": "markdown",
   "metadata": {},
   "source": [
    "**测试**"
   ]
  },
  {
   "cell_type": "code",
   "execution_count": 26,
   "metadata": {},
   "outputs": [
    {
     "name": "stdout",
     "output_type": "stream",
     "text": [
      "Sentence('The time has...Walrus said, ')\n",
      "The\n",
      "time\n",
      "has\n",
      "come\n",
      "the\n",
      "Walrus\n",
      "said\n",
      "['The', 'time', 'has', 'come', 'the', 'Walrus', 'said']\n"
     ]
    }
   ],
   "source": [
    "s = Sentence('The time has come, the Walrus said, ')\n",
    "print(s)\n",
    "for word in s:\n",
    "    print(word)\n",
    "print(list(s))\n"
   ]
  },
  {
   "cell_type": "markdown",
   "metadata": {},
   "source": [
    "**示例14-11 ArithmeticProgression类**"
   ]
  },
  {
   "cell_type": "code",
   "execution_count": 7,
   "metadata": {},
   "outputs": [],
   "source": [
    "class ArithmeticProgression:\n",
    "    def __init__(self, begin, step, end=None):\n",
    "        self.begin = begin\n",
    "        self.step = step\n",
    "        self.end = end\n",
    "        \n",
    "    def __iter__(self):\n",
    "        result = type(self.begin + self.step)(self.begin)\n",
    "        forever = self.end is None\n",
    "        index = 0\n",
    "        while(forever or result < self.end):\n",
    "            yield result\n",
    "            index += 1\n",
    "            result = self.begin + self.step * index\n",
    "            "
   ]
  },
  {
   "cell_type": "markdown",
   "metadata": {},
   "source": [
    "**示例14-10 演示ArithmeticProgression**"
   ]
  },
  {
   "cell_type": "code",
   "execution_count": 8,
   "metadata": {},
   "outputs": [
    {
     "name": "stdout",
     "output_type": "stream",
     "text": [
      "[0, 1, 2]\n",
      "[1.0, 1.5, 2.0, 2.5]\n",
      "[0.0, 0.33, 0.66, 0.99]\n",
      "[Fraction(0, 1), Fraction(1, 3), Fraction(2, 3)]\n",
      "[Decimal('0'), Decimal('0.1'), Decimal('0.2')]\n"
     ]
    }
   ],
   "source": [
    "ap = ArithmeticProgression(0, 1, 3)\n",
    "print(list(ap))\n",
    "ap = ArithmeticProgression(1, .5, 3)\n",
    "print(list(ap))\n",
    "ap = ArithmeticProgression(0, 0.33, 1)\n",
    "print(list(ap))\n",
    "\n",
    "from fractions import Fraction\n",
    "ap = ArithmeticProgression(0, Fraction(1, 3), 1)\n",
    "print(list(ap))\n",
    "from decimal import Decimal\n",
    "ap = ArithmeticProgression(0, Decimal('.1'), .3)\n",
    "print(list(ap))"
   ]
  },
  {
   "cell_type": "markdown",
   "metadata": {},
   "source": [
    "**示例14-12 aritprog_gen生成器函数**"
   ]
  },
  {
   "cell_type": "code",
   "execution_count": 9,
   "metadata": {},
   "outputs": [],
   "source": [
    "def aritprog_gen(begin, step, end=None):\n",
    "    result = type(begin + step)(begin)\n",
    "    forever = end is None\n",
    "    index = 0\n",
    "    while(forever or result < end):\n",
    "        yield result\n",
    "        index += 1\n",
    "        result = begin + step * index"
   ]
  },
  {
   "cell_type": "markdown",
   "metadata": {},
   "source": [
    "**测试**"
   ]
  },
  {
   "cell_type": "code",
   "execution_count": 12,
   "metadata": {},
   "outputs": [
    {
     "name": "stdout",
     "output_type": "stream",
     "text": [
      "[0, 1, 2]\n",
      "[1.0, 1.5, 2.0, 2.5]\n",
      "[0.0, 0.33, 0.66, 0.99]\n"
     ]
    }
   ],
   "source": [
    "ap = aritprog_gen(0, 1, 3)\n",
    "print(list(ap))\n",
    "ap = aritprog_gen(1, .5, 3)\n",
    "print(list(ap))\n",
    "ap = aritprog_gen(0, 0.33, 1)\n",
    "print(list(ap))"
   ]
  },
  {
   "cell_type": "markdown",
   "metadata": {},
   "source": [
    "**使用itertools模块生成等差数列**"
   ]
  },
  {
   "cell_type": "code",
   "execution_count": 13,
   "metadata": {},
   "outputs": [
    {
     "name": "stdout",
     "output_type": "stream",
     "text": [
      "1\n",
      "1.5\n",
      "2.0\n",
      "2.5\n",
      "3.0\n"
     ]
    }
   ],
   "source": [
    "import itertools\n",
    "\n",
    "gen = itertools.count(1, .5)\n",
    "for i in range(5):\n",
    "    print(next(gen))"
   ]
  },
  {
   "cell_type": "markdown",
   "metadata": {},
   "source": [
    "**示例14-13 与前面的airtprog函数作用相同**"
   ]
  },
  {
   "cell_type": "code",
   "execution_count": 16,
   "metadata": {},
   "outputs": [],
   "source": [
    "import itertools\n",
    "\n",
    "def aritprog_gen(begin, step, end=None):\n",
    "    first = type(begin + step)(begin)\n",
    "    ap_gen = itertools.count(first, step)\n",
    "    if(end is not None):\n",
    "        ap_gen = itertools.takewhile(lambda n: n < end, ap_gen)\n",
    "    return ap_gen"
   ]
  },
  {
   "cell_type": "markdown",
   "metadata": {},
   "source": [
    "**测试**"
   ]
  },
  {
   "cell_type": "code",
   "execution_count": 17,
   "metadata": {},
   "outputs": [
    {
     "name": "stdout",
     "output_type": "stream",
     "text": [
      "[0, 1, 2]\n",
      "[1.0, 1.5, 2.0, 2.5]\n",
      "[0.0, 0.33, 0.66, 0.99]\n"
     ]
    }
   ],
   "source": [
    "ap = aritprog_gen(0, 1, 3)\n",
    "print(list(ap))\n",
    "ap = aritprog_gen(1, .5, 3)\n",
    "print(list(ap))\n",
    "ap = aritprog_gen(0, 0.33, 1)\n",
    "print(list(ap))"
   ]
  },
  {
   "cell_type": "markdown",
   "metadata": {},
   "source": [
    "**示例14-14 演示用于过滤的生成器函数**"
   ]
  },
  {
   "cell_type": "code",
   "execution_count": 31,
   "metadata": {},
   "outputs": [
    {
     "name": "stdout",
     "output_type": "stream",
     "text": [
      "original:     ['A', 'a', 'r', 'd', 'v', 'a', 'r', 'k'] \n",
      "\n",
      "filter:       ['A', 'a', 'a']\n",
      "filterfalse:  ['r', 'd', 'v', 'r', 'k']\n",
      "dropwhile:    ['r', 'd', 'v', 'a', 'r', 'k']\n",
      "compress:     ['A', 'r', 'd', 'a']\n",
      "islice:       ['A', 'a', 'r', 'd']\n",
      "islice:       ['v', 'a', 'r']\n",
      "islice:       ['a', 'd', 'a']\n"
     ]
    }
   ],
   "source": [
    "from itertools import *\n",
    "\n",
    "def vowel(c):\n",
    "    return c.lower() in 'aeiou'\n",
    "\n",
    "print('original:    ', list('Aardvark'), '\\n')\n",
    "print('filter:      ', list(filter(vowel, 'Aardvark')))\n",
    "print('filterfalse: ', list(filterfalse(vowel, 'Aardvark')))\n",
    "print('dropwhile:   ', list(dropwhile(vowel, 'Aardvark')))\n",
    "print('compress:    ', list(compress('Aardvark', (1, 0, 1, 1, 0, 1))))\n",
    "print('islice:      ', list(islice('Aardvark', 4)))\n",
    "print('islice:      ', list(islice('Aardvark', 4, 7)))\n",
    "print('islice:      ', list(islice('Aardvark', 1, 7, 2)))"
   ]
  },
  {
   "cell_type": "markdown",
   "metadata": {},
   "source": [
    "**示例14-15 演示itertools.accumulate生成器函数**"
   ]
  },
  {
   "cell_type": "code",
   "execution_count": 53,
   "metadata": {},
   "outputs": [
    {
     "name": "stdout",
     "output_type": "stream",
     "text": [
      "ori:        5       4       2       8       7       6       3       0       9       1\n",
      "\n",
      "sum:        5       9      11      19      26      32      35      35      44      45\n",
      "\n",
      "min:        5       4       2       2       2       2       2       0       0       0\n",
      "\n",
      "max:        5       5       5       8       8       8       8       8       9       9\n",
      "\n",
      "mul:        5      20      40     320    2240   13440   40320       0       0       0\n",
      "\n",
      "mul:        1       2       6      24     120     720    5040   40320  362880 3628800\n",
      "\n"
     ]
    }
   ],
   "source": [
    "from itertools import accumulate\n",
    "\n",
    "def print_list(sample):\n",
    "    for item in sample:\n",
    "        print('{:8d}'.format(item), end='')\n",
    "    print('\\n')\n",
    "\n",
    "sample = [5, 4, 2, 8, 7, 6, 3, 0, 9, 1]\n",
    "print('ori: ', end='')\n",
    "print_list(sample)\n",
    "\n",
    "print('sum: ', end='')\n",
    "print_list(list(accumulate(sample)))\n",
    "\n",
    "print('min: ', end='')\n",
    "print_list(list(accumulate(sample, min)))\n",
    "print('max: ', end='')\n",
    "print_list(list(accumulate(sample, max)))\n",
    "\n",
    "import operator\n",
    "print('mul: ', end='')\n",
    "print_list(accumulate(sample, operator.mul))\n",
    "\n",
    "print('mul: ', end='')\n",
    "print_list(accumulate(range(1, 11), operator.mul))"
   ]
  },
  {
   "cell_type": "markdown",
   "metadata": {},
   "source": [
    "**示例14-16 演示用于映射的生成器函数**"
   ]
  },
  {
   "cell_type": "code",
   "execution_count": 60,
   "metadata": {},
   "outputs": [
    {
     "name": "stdout",
     "output_type": "stream",
     "text": [
      "[(1, 'a'), (2, 'l'), (3, 'b'), (4, 'a'), (5, 't'), (6, 'r'), (7, 'o'), (8, 'z')]\n",
      "[0, 1, 4, 9, 16, 25, 36, 49, 64, 81, 100]\n",
      "[(0, 2), (1, 4), (2, 8)]\n",
      "['a', 'll', 'bbb', 'aaaa', 'ttttt', 'rrrrrr', 'ooooooo', 'zzzzzzzz']\n",
      "[5.0, 4.5, 3.6666666666666665, 4.75, 5.2, 5.333333333333333, 5.0, 4.375, 4.888888888888889, 4.5]\n"
     ]
    }
   ],
   "source": [
    "from itertools import *\n",
    "\n",
    "print(list(enumerate('albatroz', 1)))\n",
    "\n",
    "import operator\n",
    "print(list(map(operator.mul, range(11), range(11))))\n",
    "print(list(map(lambda a, b: (a, b), range(11), [2, 4, 8])))\n",
    "print(list(starmap(operator.mul, enumerate('albatroz', 1))))\n",
    "\n",
    "sample = [5, 4, 2, 8, 7, 6, 3, 0, 9, 1]\n",
    "print(list(starmap(lambda a, b: b/a, enumerate(accumulate(sample), 1))))"
   ]
  },
  {
   "cell_type": "markdown",
   "metadata": {},
   "source": [
    "**示例14-17 演示用于合并的生成器函数**"
   ]
  },
  {
   "cell_type": "code",
   "execution_count": 65,
   "metadata": {},
   "outputs": [
    {
     "name": "stdout",
     "output_type": "stream",
     "text": [
      "['A', 'B', 'C', 0, 1]\n",
      "[(0, 'A'), (1, 'B'), (2, 'C')]\n",
      "[('A', 0, 10), ('B', 1, 20), ('C', 2, 30)]\n",
      "[('A', 0), ('B', 1), ('C', 2), (None, 3), (None, 4)]\n",
      "[('A', 0), ('B', 1), ('C', 2), ('?', 3), ('?', 4)]\n"
     ]
    }
   ],
   "source": [
    "from itertools import *\n",
    "\n",
    "print(list(chain('ABC', range(2))))\n",
    "print(list(chain(enumerate('ABC'))))\n",
    "print(list(zip('ABC', range(5), [10, 20, 30, 40])))\n",
    "print(list(zip_longest('ABC', range(5))))\n",
    "print(list(zip_longest('ABC', range(5), fillvalue='?')))"
   ]
  },
  {
   "cell_type": "markdown",
   "metadata": {},
   "source": [
    "**示例14-18 演示itertools.product生成器函数**"
   ]
  },
  {
   "cell_type": "code",
   "execution_count": 74,
   "metadata": {},
   "outputs": [
    {
     "name": "stdout",
     "output_type": "stream",
     "text": [
      "[('A', 0), ('A', 1), ('B', 0), ('B', 1), ('C', 0), ('C', 1)]\n",
      "[('A', 'Spades'), ('A', 'hearts'), ('A', 'diamonds'), ('A', 'clubs'), ('K', 'Spades'), ('K', 'hearts'), ('K', 'diamonds'), ('K', 'clubs')]\n",
      "[('A',), ('B',), ('C',)]\n",
      "[('A', 'A'), ('A', 'B'), ('A', 'C'), ('B', 'A'), ('B', 'B'), ('B', 'C'), ('C', 'A'), ('C', 'B'), ('C', 'C')]\n",
      "[(0, 0, 0), (0, 0, 1), (0, 1, 0), (0, 1, 1), (1, 0, 0), (1, 0, 1), (1, 1, 0), (1, 1, 1)]\n",
      "('A', 0, 'A', 0)\n",
      "('A', 0, 'A', 1)\n",
      "('A', 0, 'B', 0)\n",
      "('A', 0, 'B', 1)\n",
      "('A', 1, 'A', 0)\n",
      "('A', 1, 'A', 1)\n",
      "('A', 1, 'B', 0)\n",
      "('A', 1, 'B', 1)\n",
      "('B', 0, 'A', 0)\n",
      "('B', 0, 'A', 1)\n",
      "('B', 0, 'B', 0)\n",
      "('B', 0, 'B', 1)\n",
      "('B', 1, 'A', 0)\n",
      "('B', 1, 'A', 1)\n",
      "('B', 1, 'B', 0)\n",
      "('B', 1, 'B', 1)\n"
     ]
    }
   ],
   "source": [
    "from itertools import product\n",
    "\n",
    "print(list(product('ABC', range(2))))\n",
    "suits = 'Spades hearts diamonds clubs'.split()\n",
    "print(list(product('AK', suits)))\n",
    "print(list(product('ABC')))\n",
    "print(list(product('ABC', repeat=2)))\n",
    "print(list(product(range(2), repeat=3)))\n",
    "\n",
    "rows = product('AB', range(2), repeat=2)\n",
    "for row in rows:\n",
    "    print(row)"
   ]
  },
  {
   "cell_type": "markdown",
   "metadata": {},
   "source": [
    "**示例14-19 演示count, repeat和cycle的用法**"
   ]
  },
  {
   "cell_type": "code",
   "execution_count": 81,
   "metadata": {},
   "outputs": [
    {
     "name": "stdout",
     "output_type": "stream",
     "text": [
      "0\n",
      "1 2 3\n",
      "[1, 1.3, 1.6]\n",
      "A\n",
      "['B', 'C', 'A', 'B', 'C', 'A', 'B']\n",
      "7 7\n",
      "[8, 8, 8, 8]\n",
      "[0, 5, 10, 15, 20, 25, 30, 35, 40, 45, 50]\n"
     ]
    }
   ],
   "source": [
    "import itertools\n",
    "\n",
    "ct = itertools.count()\n",
    "print(next(ct))\n",
    "print(next(ct), next(ct), next(ct))\n",
    "\n",
    "print(list(itertools.islice(itertools.count(1, .3), 3)))\n",
    "\n",
    "cy = itertools.cycle('ABC')\n",
    "print(next(cy))\n",
    "print(list(itertools.islice(cy, 7)))\n",
    "\n",
    "rp = itertools.repeat(7)\n",
    "print(next(rp), next(rp))\n",
    "print(list(itertools.repeat(8, 4)))\n",
    "print(list(map(operator.mul, range(11), itertools.repeat(5))))"
   ]
  },
  {
   "cell_type": "markdown",
   "metadata": {},
   "source": [
    "**示例14-20 组合学生成器函数会从输入的各个元素中产出多个值**"
   ]
  },
  {
   "cell_type": "code",
   "execution_count": 85,
   "metadata": {},
   "outputs": [
    {
     "name": "stdout",
     "output_type": "stream",
     "text": [
      "[('A', 'B'), ('A', 'C'), ('B', 'C')]\n",
      "[('A', 'A'), ('A', 'B'), ('A', 'C'), ('B', 'B'), ('B', 'C'), ('C', 'C')]\n",
      "[('A', 'B'), ('A', 'C'), ('B', 'A'), ('B', 'C'), ('C', 'A'), ('C', 'B')]\n",
      "[('A', 'A'), ('A', 'B'), ('A', 'C'), ('B', 'A'), ('B', 'B'), ('B', 'C'), ('C', 'A'), ('C', 'B'), ('C', 'C')]\n"
     ]
    }
   ],
   "source": [
    "print(list(itertools.combinations('ABC', 2)))\n",
    "print(list(itertools.combinations_with_replacement('ABC', 2)))\n",
    "print(list(itertools.permutations('ABC', 2)))\n",
    "print(list(itertools.product('ABC', repeat=2)))"
   ]
  },
  {
   "cell_type": "markdown",
   "metadata": {},
   "source": [
    "**示例14-21 groupby用法**"
   ]
  },
  {
   "cell_type": "code",
   "execution_count": 90,
   "metadata": {},
   "outputs": [
    {
     "name": "stdout",
     "output_type": "stream",
     "text": [
      "[('L', <itertools._grouper object at 0x10f4699b0>), ('A', <itertools._grouper object at 0x10f469080>), ('G', <itertools._grouper object at 0x10f4698d0>)]\n",
      "L -> ['L', 'L', 'L', 'L']\n",
      "A -> ['A', 'A']\n",
      "G -> ['G', 'G', 'G']\n",
      "\n",
      "\n",
      "3 -> ['rat', 'bat']\n",
      "4 -> ['duck', 'bear', 'lion']\n",
      "5 -> ['eagle', 'shark']\n",
      "7 -> ['giraffe', 'dolphin']\n",
      "\n",
      "\n",
      "7 -> ['dolphin', 'giraffe']\n",
      "5 -> ['shark', 'eagle']\n",
      "4 -> ['lion', 'bear', 'duck']\n",
      "3 -> ['bat', 'rat']\n"
     ]
    }
   ],
   "source": [
    "print(list(itertools.groupby('LLLLAAGGG')))\n",
    "\n",
    "for char, group in itertools.groupby('LLLLAAGGG'):\n",
    "    print(char, '->', list(group))\n",
    "print('\\n')\n",
    "\n",
    "animals = ['duck', 'eagle', 'rat', 'giraffe', 'bear', 'bat', 'dolphin', 'shark', 'lion']\n",
    "animals.sort(key=len)\n",
    "for length, group in itertools.groupby(animals, len):\n",
    "    print(length, '->', list(group))\n",
    "\n",
    "print('\\n')\n",
    "for length, group in itertools.groupby(reversed(animals), len):\n",
    "    print(length, '->', list(group))"
   ]
  },
  {
   "cell_type": "markdown",
   "metadata": {},
   "source": [
    "**示例14-22 tee函数**"
   ]
  },
  {
   "cell_type": "code",
   "execution_count": 92,
   "metadata": {},
   "outputs": [
    {
     "name": "stdout",
     "output_type": "stream",
     "text": [
      "[<itertools._tee object at 0x10f6217c8>, <itertools._tee object at 0x10f6813c8>]\n",
      "A A B\n",
      "['B', 'C']\n",
      "['C']\n",
      "[('A', 'A'), ('B', 'B'), ('C', 'C')]\n"
     ]
    }
   ],
   "source": [
    "print(list(itertools.tee('ABC')))\n",
    "g1, g2 = itertools.tee('ABC')\n",
    "print(next(g1), next(g2), next(g2))\n",
    "print(list(g1))\n",
    "print(list(g2))\n",
    "\n",
    "print(list(zip(*itertools.tee('ABC'))))"
   ]
  },
  {
   "cell_type": "markdown",
   "metadata": {},
   "source": [
    "**示例14-23 all and any**"
   ]
  },
  {
   "cell_type": "code",
   "execution_count": 93,
   "metadata": {},
   "outputs": [
    {
     "name": "stdout",
     "output_type": "stream",
     "text": [
      "False\n",
      "True\n"
     ]
    }
   ],
   "source": [
    "print(all([1, 2, 0]))\n",
    "print(any([1, 2, 0]))"
   ]
  }
 ],
 "metadata": {
  "kernelspec": {
   "display_name": "Python 3",
   "language": "python",
   "name": "python3"
  },
  "language_info": {
   "codemirror_mode": {
    "name": "ipython",
    "version": 3
   },
   "file_extension": ".py",
   "mimetype": "text/x-python",
   "name": "python",
   "nbconvert_exporter": "python",
   "pygments_lexer": "ipython3",
   "version": "3.6.4"
  }
 },
 "nbformat": 4,
 "nbformat_minor": 2
}
