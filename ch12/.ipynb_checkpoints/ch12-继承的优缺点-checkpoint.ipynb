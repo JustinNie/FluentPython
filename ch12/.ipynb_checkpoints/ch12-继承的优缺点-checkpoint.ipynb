{
 "cells": [
  {
   "cell_type": "markdown",
   "metadata": {},
   "source": [
    "# <center> 流畅的Python </center>\n",
    "## 第十二章：继承的优缺点\n",
    "**示例12-1 内置类型的\\__init\\__和\\__update\\__方法会忽略我们覆盖的\\__setitem\\__方法**"
   ]
  },
  {
   "cell_type": "code",
   "execution_count": 1,
   "metadata": {},
   "outputs": [
    {
     "name": "stdout",
     "output_type": "stream",
     "text": [
      "{'one': 1}\n",
      "{'one': 1, 'two': [2, 2]}\n",
      "{'one': 1, 'two': [2, 2], 'three': 3}\n"
     ]
    }
   ],
   "source": [
    "class DoppelDict(dict):\n",
    "    def __setitem__(self, key, value):\n",
    "        super().__setitem__(key, [value] * 2)\n",
    "        \n",
    "dd = DoppelDict(one=1)\n",
    "print(dd)\n",
    "dd['two'] = 2\n",
    "print(dd)\n",
    "dd.update(three=3)\n",
    "print(dd)"
   ]
  },
  {
   "cell_type": "markdown",
   "metadata": {},
   "source": [
    "**示例12-2 dict.update方法会忽略AnswerDict.\\__getitem\\__方法**"
   ]
  },
  {
   "cell_type": "code",
   "execution_count": 2,
   "metadata": {},
   "outputs": [
    {
     "name": "stdout",
     "output_type": "stream",
     "text": [
      "42\n",
      "foo\n",
      "{'a': 'foo'}\n"
     ]
    }
   ],
   "source": [
    "class AnswerDict(dict):\n",
    "    def __getitem__(self, key):\n",
    "        return 42\n",
    "    \n",
    "ad = AnswerDict(a='foo')\n",
    "print(ad['a'])\n",
    "d = {}\n",
    "d.update(ad)\n",
    "print(d['a'])\n",
    "print(d)"
   ]
  },
  {
   "cell_type": "markdown",
   "metadata": {},
   "source": [
    "**示例12-3 DoppelDict2和AnswerDict2能像预期那样使用，因为他们扩展的是UserDict，而不是dict**"
   ]
  },
  {
   "cell_type": "code",
   "execution_count": 3,
   "metadata": {},
   "outputs": [
    {
     "name": "stdout",
     "output_type": "stream",
     "text": [
      "{'one': [1, 1]}\n",
      "{'one': [1, 1], 'two': [2, 2]}\n",
      "{'one': [1, 1], 'two': [2, 2], 'three': [3, 3]} \n",
      "\n",
      "42\n",
      "42\n",
      "{'a': 42}\n"
     ]
    }
   ],
   "source": [
    "import collections\n",
    "\n",
    "class DoppelDict2(collections.UserDict):\n",
    "    def __setitem__(self, key, value):\n",
    "        super().__setitem__(key, [value] * 2)\n",
    "        \n",
    "dd = DoppelDict2(one=1)\n",
    "print(dd)\n",
    "dd['two'] = 2\n",
    "print(dd)\n",
    "dd.update(three=3)\n",
    "print(dd, '\\n')\n",
    "\n",
    "class AnswerDict2(collections.UserDict):\n",
    "    def __getitem__(self, key):\n",
    "        return 42\n",
    "    \n",
    "ad = AnswerDict2(a='foo')\n",
    "print(ad['a'])\n",
    "d = {}\n",
    "d.update(ad)\n",
    "print(d['a'])\n",
    "print(d)"
   ]
  },
  {
   "cell_type": "markdown",
   "metadata": {},
   "source": [
    "**示例12-4 A, B, C, D四个类**"
   ]
  },
  {
   "cell_type": "code",
   "execution_count": 8,
   "metadata": {},
   "outputs": [],
   "source": [
    "class A:\n",
    "    def ping(self):\n",
    "        print('ping: ', self)\n",
    "        \n",
    "class B(A):\n",
    "    def pong(self):\n",
    "        print('pong: ', self)\n",
    "        \n",
    "class C(A):\n",
    "    def pong(self):\n",
    "        print('PONG: ', self)\n",
    "        \n",
    "class D(C, B):\n",
    "    def ping(self):\n",
    "        super().ping()\n",
    "        print('post-ping: ', self)\n",
    "        \n",
    "    def pingpong(self):\n",
    "        self.ping()\n",
    "        super().ping()\n",
    "        self.pong()\n",
    "        super().pong()\n",
    "        B.pong(self)\n",
    "    "
   ]
  },
  {
   "cell_type": "markdown",
   "metadata": {},
   "source": [
    "**示例12-5 在D实例上调用pong方法的两种方式**"
   ]
  },
  {
   "cell_type": "code",
   "execution_count": 9,
   "metadata": {},
   "outputs": [
    {
     "name": "stdout",
     "output_type": "stream",
     "text": [
      "PONG:  <__main__.D object at 0x10f509898>\n",
      "pong:  <__main__.D object at 0x10f509898>\n",
      "(<class '__main__.D'>, <class '__main__.C'>, <class '__main__.B'>, <class '__main__.A'>, <class 'object'>)\n"
     ]
    }
   ],
   "source": [
    "d = D()\n",
    "d.pong()\n",
    "B.pong(d)\n",
    "print(D.__mro__)"
   ]
  },
  {
   "cell_type": "markdown",
   "metadata": {},
   "source": [
    "**示例12-6 使用super()函数调用ping方法**"
   ]
  },
  {
   "cell_type": "code",
   "execution_count": 10,
   "metadata": {},
   "outputs": [
    {
     "name": "stdout",
     "output_type": "stream",
     "text": [
      "ping:  <__main__.D object at 0x10f509a58>\n",
      "post-ping:  <__main__.D object at 0x10f509a58>\n"
     ]
    }
   ],
   "source": [
    "d = D()\n",
    "d.ping()"
   ]
  },
  {
   "cell_type": "markdown",
   "metadata": {},
   "source": [
    "**示例12-7 pingpong方法的5个调用**"
   ]
  },
  {
   "cell_type": "code",
   "execution_count": 11,
   "metadata": {},
   "outputs": [
    {
     "name": "stdout",
     "output_type": "stream",
     "text": [
      "ping:  <__main__.D object at 0x10f509a90>\n",
      "post-ping:  <__main__.D object at 0x10f509a90>\n",
      "ping:  <__main__.D object at 0x10f509a90>\n",
      "PONG:  <__main__.D object at 0x10f509a90>\n",
      "PONG:  <__main__.D object at 0x10f509a90>\n",
      "pong:  <__main__.D object at 0x10f509a90>\n"
     ]
    }
   ],
   "source": [
    "d = D()\n",
    "d.pingpong()"
   ]
  },
  {
   "cell_type": "markdown",
   "metadata": {},
   "source": [
    "**示例12-8 查看几个类的\\__mro\\__属性**"
   ]
  },
  {
   "cell_type": "code",
   "execution_count": 14,
   "metadata": {},
   "outputs": [
    {
     "name": "stdout",
     "output_type": "stream",
     "text": [
      "(<class 'bool'>, <class 'int'>, <class 'object'>)\n",
      "bool, int, object\n",
      "Integral, Rational, Real, Complex, Number, object\n",
      "BytesIO, _BufferedIOBase, _IOBase, object\n",
      "TextIOWrapper, _TextIOBase, _IOBase, object\n"
     ]
    }
   ],
   "source": [
    "print(bool.__mro__)\n",
    "\n",
    "def print_mro(cls):\n",
    "    print(', '.join(c.__name__ for c in cls.__mro__))\n",
    "print_mro(bool)\n",
    "\n",
    "import numbers\n",
    "print_mro(numbers.Integral)\n",
    "import io\n",
    "print_mro(io.BytesIO)\n",
    "print_mro(io.TextIOWrapper)"
   ]
  }
 ],
 "metadata": {
  "kernelspec": {
   "display_name": "Python 3",
   "language": "python",
   "name": "python3"
  },
  "language_info": {
   "codemirror_mode": {
    "name": "ipython",
    "version": 3
   },
   "file_extension": ".py",
   "mimetype": "text/x-python",
   "name": "python",
   "nbconvert_exporter": "python",
   "pygments_lexer": "ipython3",
   "version": "3.6.4"
  }
 },
 "nbformat": 4,
 "nbformat_minor": 2
}
