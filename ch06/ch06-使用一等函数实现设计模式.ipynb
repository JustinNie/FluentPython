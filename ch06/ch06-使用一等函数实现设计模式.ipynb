{
 "cells": [
  {
   "cell_type": "markdown",
   "metadata": {},
   "source": [
    "# <center> 流畅的Python </center>\n",
    "## 第六章：使用一等函数实现设计模式\n",
    "**示例6-1 实现Order类，支持插入式折扣策略**"
   ]
  },
  {
   "cell_type": "code",
   "execution_count": 14,
   "metadata": {},
   "outputs": [],
   "source": [
    "from abc import ABC, abstractmethod\n",
    "from collections import namedtuple\n",
    "\n",
    "Customer = namedtuple('Customer', 'name fidelity')\n",
    "\n",
    "class LineItem:\n",
    "    def __init__(self, product, quantity, price):\n",
    "        self.product = product\n",
    "        self.quantity = quantity\n",
    "        self.price = price\n",
    "    \n",
    "    def total(self):\n",
    "        return self.price * self.quantity\n",
    "\n",
    "\n",
    "class Order:    #上下文\n",
    "    def __init__(self, customer, cart, promotion=None):\n",
    "        self.customer = customer\n",
    "        self.cart = list(cart)\n",
    "        self.promotion = promotion\n",
    "    \n",
    "    def total(self):\n",
    "        if not hasattr(self, '_total'):\n",
    "            self._total = sum(item.total() for item in self.cart)\n",
    "        return self._total\n",
    "    \n",
    "    def due(self):\n",
    "        if(self.promotion is None):\n",
    "            discount = 0\n",
    "        else:\n",
    "            discount = self.promotion.discount(self)\n",
    "        return self.total() - discount\n",
    "    \n",
    "    def __repr__(self):\n",
    "        fmt = '<Order total: {:.2f} due: {:.2f}>'\n",
    "        return fmt.format(self.total(), self.due())\n",
    "\n",
    "class Promotion(ABC):\n",
    "    @abstractmethod\n",
    "    def discount(self, order):\n",
    "        \"\"\"返回折扣金额\"\"\"\n",
    "        \n",
    "class FidelityPromo(Promotion):\n",
    "    def discount(self, order):\n",
    "        return order.total() *.05 if order.customer.fidelity >= 1000 else 0\n",
    "\n",
    "class BulkItemPromo(Promotion):\n",
    "    def discount(self, order):\n",
    "        global dicount\n",
    "        discount = 0\n",
    "        for item in order.cart:\n",
    "            if item.quantity >= 20:\n",
    "                discount += item.total() * .1\n",
    "        return discount\n",
    "\n",
    "class LargeOrderPromo(Promotion):\n",
    "    def discount(self, order):\n",
    "        distinct_items = {item.product for item in order.cart}\n",
    "        if(len(distinct_items) >= 10):\n",
    "            return order.total() * .07\n",
    "        return 0"
   ]
  },
  {
   "cell_type": "markdown",
   "metadata": {},
   "source": [
    "**示例6-2 使用不同促销折扣的Order类示例**"
   ]
  },
  {
   "cell_type": "code",
   "execution_count": 16,
   "metadata": {},
   "outputs": [
    {
     "name": "stdout",
     "output_type": "stream",
     "text": [
      "<Order total: 42.00 due: 42.00>\n",
      "<Order total: 42.00 due: 39.90>\n",
      "<Order total: 30.00 due: 28.50>\n",
      "<Order total: 10.00 due: 9.30>\n",
      "<Order total: 42.00 due: 42.00>\n"
     ]
    }
   ],
   "source": [
    "joe = Customer('John Doe', 0)\n",
    "ann = Customer('Ann Smith', 1100)\n",
    "cart = [LineItem('banana', 4, .5), LineItem('apple', 10, 1.5), LineItem('watermellon', 5, 5.0)]\n",
    "print(Order(joe, cart, FidelityPromo()))\n",
    "print(Order(ann, cart, FidelityPromo()))\n",
    "\n",
    "banana_cart = [LineItem('banana', 30, .5), LineItem('apple', 10, 1.5)]\n",
    "print(Order(joe, banana_cart, BulkItemPromo()))\n",
    "long_order = [LineItem(str(item_code), 1, 1.0) for item_code in range(10)]\n",
    "print(Order(joe, long_order, LargeOrderPromo()))\n",
    "print(Order(joe, cart, LargeOrderPromo()))"
   ]
  },
  {
   "cell_type": "markdown",
   "metadata": {},
   "source": [
    "**示例6-3 Order类和使用函数实现的折扣策略**"
   ]
  },
  {
   "cell_type": "code",
   "execution_count": 17,
   "metadata": {},
   "outputs": [],
   "source": [
    "from collections import namedtuple\n",
    "\n",
    "Customer = namedtuple('Customer', 'name fidelity')\n",
    "\n",
    "class LineItem:\n",
    "    def __init__(self, product, quantity, price):\n",
    "        self.product = product\n",
    "        self.quantity = quantity\n",
    "        self.price = price\n",
    "    \n",
    "    def total(self):\n",
    "        return self.price * self.quantity\n",
    "\n",
    "\n",
    "class Order:    #上下文\n",
    "    def __init__(self, customer, cart, promotion=None):\n",
    "        self.customer = customer\n",
    "        self.cart = list(cart)\n",
    "        self.promotion = promotion\n",
    "    \n",
    "    def total(self):\n",
    "        if not hasattr(self, '_total'):\n",
    "            self._total = sum(item.total() for item in self.cart)\n",
    "        return self._total\n",
    "    \n",
    "    def due(self):\n",
    "        if(self.promotion is None):\n",
    "            discount = 0\n",
    "        else:\n",
    "            discount = self.promotion(self)\n",
    "        return self.total() - discount\n",
    "    \n",
    "    def __repr__(self):\n",
    "        fmt = '<Order total: {:.2f} due: {:.2f}>'\n",
    "        return fmt.format(self.total(), self.due())\n",
    "\n",
    "def fidelity_promo(order):\n",
    "    return order.total() * .05 if order.customer.fidelity >= 100 else 0\n",
    "\n",
    "def bulk_item_promo(order):\n",
    "    discount = 0\n",
    "    for item in order.cart:\n",
    "        if item.quantity >= 20:\n",
    "            discount += item.total() * .1\n",
    "    return discount\n",
    "\n",
    "def large_order_promo(order):\n",
    "    distinct_items = {item.product for item in order.cart}\n",
    "    if(len(distinct_items) >= 10):\n",
    "        return order.total() * .07\n",
    "    return 0\n"
   ]
  },
  {
   "cell_type": "markdown",
   "metadata": {},
   "source": [
    "**示例6-4 使用函数实现的促销折扣的Order类示例**"
   ]
  },
  {
   "cell_type": "code",
   "execution_count": 19,
   "metadata": {},
   "outputs": [
    {
     "name": "stdout",
     "output_type": "stream",
     "text": [
      "<Order total: 42.00 due: 42.00>\n",
      "<Order total: 42.00 due: 39.90>\n",
      "<Order total: 30.00 due: 28.50>\n",
      "<Order total: 10.00 due: 9.30>\n",
      "<Order total: 42.00 due: 42.00>\n"
     ]
    }
   ],
   "source": [
    "joe = Customer('John Doe', 0)\n",
    "ann = Customer('Ann Smith', 1100)\n",
    "cart = [LineItem('banana', 4, .5), LineItem('apple', 10, 1.5), LineItem('watermellon', 5, 5.0)]\n",
    "print(Order(joe, cart, fidelity_promo))\n",
    "print(Order(ann, cart, fidelity_promo))\n",
    "\n",
    "banana_cart = [LineItem('banana', 30, .5), LineItem('apple', 10, 1.5)]\n",
    "print(Order(joe, banana_cart, bulk_item_promo))\n",
    "long_order = [LineItem(str(item_code), 1, 1.0) for item_code in range(10)]\n",
    "print(Order(joe, long_order, large_order_promo))\n",
    "print(Order(joe, cart, large_order_promo))"
   ]
  },
  {
   "cell_type": "markdown",
   "metadata": {},
   "source": [
    "**示例6-6 best_promo函数迭代一个函数列表，并找出折扣额度最大的**"
   ]
  },
  {
   "cell_type": "code",
   "execution_count": 20,
   "metadata": {},
   "outputs": [],
   "source": [
    "promos = [fidelity_promo, bulk_item_promo, large_order_promo]\n",
    "\n",
    "def best_promo(order):\n",
    "    return max(promo(order) for promo in promos)"
   ]
  },
  {
   "cell_type": "markdown",
   "metadata": {},
   "source": [
    "**示例6-5 best_promo函数计算所有折扣，并返回额度最大的**"
   ]
  },
  {
   "cell_type": "code",
   "execution_count": 21,
   "metadata": {},
   "outputs": [
    {
     "name": "stdout",
     "output_type": "stream",
     "text": [
      "<Order total: 10.00 due: 9.30>\n",
      "<Order total: 30.00 due: 28.50>\n",
      "<Order total: 42.00 due: 39.90>\n"
     ]
    }
   ],
   "source": [
    "print(Order(joe, long_order, best_promo))\n",
    "print(Order(joe, banana_cart, best_promo))\n",
    "print(Order(ann, cart, best_promo))"
   ]
  },
  {
   "cell_type": "markdown",
   "metadata": {},
   "source": [
    "**示例6-7 内省模块的全局命名空间，构建promos列表**"
   ]
  },
  {
   "cell_type": "code",
   "execution_count": 25,
   "metadata": {},
   "outputs": [],
   "source": [
    "promos = [globals()[name] for name in globals() if name.endswith('_promo') and name != 'best_promo']\n",
    "\n",
    "def best_promo(order):\n",
    "    return max(promo(order) for promo in promos)"
   ]
  },
  {
   "cell_type": "markdown",
   "metadata": {},
   "source": [
    "**示例6-8 内省单独的promotions模块，构建promos列表**"
   ]
  },
  {
   "cell_type": "code",
   "execution_count": 28,
   "metadata": {},
   "outputs": [
    {
     "ename": "ModuleNotFoundError",
     "evalue": "No module named 'promotions'",
     "output_type": "error",
     "traceback": [
      "\u001b[0;31m---------------------------------------------------------------------------\u001b[0m",
      "\u001b[0;31mModuleNotFoundError\u001b[0m                       Traceback (most recent call last)",
      "\u001b[0;32m<ipython-input-28-e3687182cf8d>\u001b[0m in \u001b[0;36m<module>\u001b[0;34m()\u001b[0m\n\u001b[0;32m----> 1\u001b[0;31m \u001b[0;32mimport\u001b[0m \u001b[0mpromotions\u001b[0m\u001b[0;34m\u001b[0m\u001b[0m\n\u001b[0m\u001b[1;32m      2\u001b[0m \u001b[0;32mimport\u001b[0m \u001b[0minspect\u001b[0m\u001b[0;34m\u001b[0m\u001b[0m\n\u001b[1;32m      3\u001b[0m \u001b[0mpromos\u001b[0m \u001b[0;34m=\u001b[0m \u001b[0;34m[\u001b[0m\u001b[0mfunc\u001b[0m \u001b[0;32mfor\u001b[0m \u001b[0mname\u001b[0m\u001b[0;34m,\u001b[0m \u001b[0mfunc\u001b[0m \u001b[0;32min\u001b[0m \u001b[0minspect\u001b[0m\u001b[0;34m.\u001b[0m\u001b[0mgetmembers\u001b[0m\u001b[0;34m(\u001b[0m\u001b[0mpromotions\u001b[0m\u001b[0;34m,\u001b[0m \u001b[0minspect\u001b[0m\u001b[0;34m.\u001b[0m\u001b[0misfunction\u001b[0m\u001b[0;34m)\u001b[0m\u001b[0;34m]\u001b[0m\u001b[0;34m\u001b[0m\u001b[0m\n\u001b[1;32m      4\u001b[0m \u001b[0;34m\u001b[0m\u001b[0m\n\u001b[1;32m      5\u001b[0m \u001b[0;32mdef\u001b[0m \u001b[0mbest_promo\u001b[0m\u001b[0;34m(\u001b[0m\u001b[0morder\u001b[0m\u001b[0;34m)\u001b[0m\u001b[0;34m:\u001b[0m\u001b[0;34m\u001b[0m\u001b[0m\n",
      "\u001b[0;31mModuleNotFoundError\u001b[0m: No module named 'promotions'"
     ]
    }
   ],
   "source": [
    "import promotions\n",
    "import inspect\n",
    "promos = [func for name, func in inspect.getmembers(promotions, inspect.isfunction)]\n",
    "\n",
    "def best_promo(order):\n",
    "    return max(promo(order) for promo in promos)"
   ]
  },
  {
   "cell_type": "markdown",
   "metadata": {},
   "source": [
    "**示例6-9 MacroCommand的各个实例都在内部存储着命令列表**"
   ]
  },
  {
   "cell_type": "code",
   "execution_count": 29,
   "metadata": {},
   "outputs": [],
   "source": [
    "class MacroCommand:\n",
    "    \"\"\"一个执行一组命令的命令\"\"\"\n",
    "    def __init__(self, commands):\n",
    "        self.commands = list(commands)\n",
    "    \n",
    "    def __call__(self):\n",
    "        for command in self.commands:\n",
    "            command()"
   ]
  }
 ],
 "metadata": {
  "kernelspec": {
   "display_name": "Python 3",
   "language": "python",
   "name": "python3"
  },
  "language_info": {
   "codemirror_mode": {
    "name": "ipython",
    "version": 3
   },
   "file_extension": ".py",
   "mimetype": "text/x-python",
   "name": "python",
   "nbconvert_exporter": "python",
   "pygments_lexer": "ipython3",
   "version": "3.6.4"
  }
 },
 "nbformat": 4,
 "nbformat_minor": 2
}
