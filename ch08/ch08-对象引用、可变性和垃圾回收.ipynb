{
 "cells": [
  {
   "cell_type": "markdown",
   "metadata": {},
   "source": [
    "# <center> 流畅的Python </center>\n",
    "## 第八章：对象引用、可变性和垃圾回收\n",
    "**示例8-1 变量a, b引用同一个列表，而不是那个列表的副本**"
   ]
  },
  {
   "cell_type": "code",
   "execution_count": 1,
   "metadata": {},
   "outputs": [
    {
     "name": "stdout",
     "output_type": "stream",
     "text": [
      "True\n",
      "[1, 2, 3, 4]\n"
     ]
    }
   ],
   "source": [
    "a = [1, 2, 3]\n",
    "b = a\n",
    "print(a is b)\n",
    "a.append(4)\n",
    "print(b)"
   ]
  },
  {
   "cell_type": "markdown",
   "metadata": {},
   "source": [
    "**示例8-2 创建对象后才会把变量分配给对象**"
   ]
  },
  {
   "cell_type": "code",
   "execution_count": 2,
   "metadata": {},
   "outputs": [
    {
     "name": "stdout",
     "output_type": "stream",
     "text": [
      "Gimzo id: 4550065288\n",
      "Gimzo id: 4550064840\n"
     ]
    },
    {
     "ename": "TypeError",
     "evalue": "unsupported operand type(s) for *: 'Gizmo' and 'int'",
     "output_type": "error",
     "traceback": [
      "\u001b[0;31m---------------------------------------------------------------------------\u001b[0m",
      "\u001b[0;31mTypeError\u001b[0m                                 Traceback (most recent call last)",
      "\u001b[0;32m<ipython-input-2-57275c737eff>\u001b[0m in \u001b[0;36m<module>\u001b[0;34m()\u001b[0m\n\u001b[1;32m      4\u001b[0m \u001b[0;34m\u001b[0m\u001b[0m\n\u001b[1;32m      5\u001b[0m \u001b[0mx\u001b[0m \u001b[0;34m=\u001b[0m \u001b[0mGizmo\u001b[0m\u001b[0;34m(\u001b[0m\u001b[0;34m)\u001b[0m\u001b[0;34m\u001b[0m\u001b[0m\n\u001b[0;32m----> 6\u001b[0;31m \u001b[0my\u001b[0m \u001b[0;34m=\u001b[0m \u001b[0mGizmo\u001b[0m\u001b[0;34m(\u001b[0m\u001b[0;34m)\u001b[0m \u001b[0;34m*\u001b[0m \u001b[0;36m10\u001b[0m\u001b[0;34m\u001b[0m\u001b[0m\n\u001b[0m",
      "\u001b[0;31mTypeError\u001b[0m: unsupported operand type(s) for *: 'Gizmo' and 'int'"
     ]
    }
   ],
   "source": [
    "class Gizmo:\n",
    "    def __init__(self):\n",
    "        print('Gimzo id: %d' % (id(self)))\n",
    "        \n",
    "x = Gizmo()\n",
    "y = Gizmo() * 10"
   ]
  },
  {
   "cell_type": "markdown",
   "metadata": {},
   "source": [
    "**示例8-3 charles 和 lewis指代同一个对象**"
   ]
  },
  {
   "cell_type": "code",
   "execution_count": 3,
   "metadata": {},
   "outputs": [
    {
     "name": "stdout",
     "output_type": "stream",
     "text": [
      "True\n",
      "{'name': 'Charles L. Dodgson', 'born': 1832, 'balance': 950}\n"
     ]
    }
   ],
   "source": [
    "charles = {'name': 'Charles L. Dodgson', 'born': 1832}\n",
    "lewis = charles\n",
    "print(lewis is charles)\n",
    "lewis['balance'] = 950\n",
    "print(charles)"
   ]
  },
  {
   "cell_type": "markdown",
   "metadata": {},
   "source": [
    "**示例8-4 alex与charles比较**"
   ]
  },
  {
   "cell_type": "code",
   "execution_count": 4,
   "metadata": {},
   "outputs": [
    {
     "name": "stdout",
     "output_type": "stream",
     "text": [
      "False\n",
      "True\n"
     ]
    }
   ],
   "source": [
    "alex = {'name': 'Charles L. Dodgson', 'born': 1832, 'balance': 950}\n",
    "print(alex is charles)\n",
    "print(alex == charles)"
   ]
  },
  {
   "cell_type": "markdown",
   "metadata": {},
   "source": [
    "**示例8-5 元组的相对不可变性**"
   ]
  },
  {
   "cell_type": "code",
   "execution_count": 8,
   "metadata": {},
   "outputs": [
    {
     "name": "stdout",
     "output_type": "stream",
     "text": [
      "True\n",
      "4304955776  |  4304955776  |  True\n",
      "4304955808  |  4304955808  |  True\n",
      "4550727688  |  4550727624  |  False\n",
      "False\n",
      "4304955776  |  4304955776  |  True\n",
      "4304955808  |  4304955808  |  True\n",
      "4550727688  |  4550727624  |  False\n"
     ]
    }
   ],
   "source": [
    "t1 = (1, 2, [30, 40])\n",
    "t2 = (1, 2, [30, 40])\n",
    "print(t1 == t2)\n",
    "for i in range(3):\n",
    "    print(id(t1[i]), ' | ', id(t2[i]), ' | ', t1[i] is t2[i])\n",
    "t1[-1].append(50)\n",
    "print(t1 == t2)\n",
    "for i in range(3):\n",
    "    print(id(t1[i]), ' | ', id(t2[i]),  ' | ', t1[i] is t2[i])"
   ]
  },
  {
   "cell_type": "markdown",
   "metadata": {},
   "source": [
    "**示例8-6 对列表做浅复制**"
   ]
  },
  {
   "cell_type": "code",
   "execution_count": 16,
   "metadata": {},
   "outputs": [
    {
     "name": "stdout",
     "output_type": "stream",
     "text": [
      "l1 is l2 ->  False\n",
      "l1[0] is l2[0] ->  True\n",
      "l1[1] is l2[1] ->  True\n",
      "l1[2] is l2[2] ->  True\n",
      "\n",
      "\n",
      "l1 ->  [4, [66, 44], (7, 8, 9), 100]\n",
      "l2 ->  [3, [66, 44], (7, 8, 9)]\n",
      "l1[0] is l2[0] ->  False\n",
      "l1[1] is l2[1] ->  True\n",
      "l1[2] is l2[2] ->  True\n",
      "\n",
      "\n",
      "l1 ->  [4, [66, 44, 33, 22], (7, 8, 9), 100]\n",
      "l2 ->  [3, [66, 44, 33, 22], (7, 8, 9, 10, 11)]\n",
      "l1[0] is l2[0] ->  False\n",
      "l1[1] is l2[1] ->  True\n",
      "l1[2] is l2[2] ->  False\n"
     ]
    }
   ],
   "source": [
    "l1 = [3, [66, 55, 44], (7, 8, 9)]\n",
    "l2 = list(l1)\n",
    "print('l1 is l2 -> ', l1 is l2)\n",
    "for i in range(len(l1)):\n",
    "    print('l1[%d] is l2[%d] -> ' % (i, i), l1[i] is l2[i])\n",
    "\n",
    "print('\\n')\n",
    "l1[0] = 4\n",
    "l1.append(100)\n",
    "l1[1].remove(55)\n",
    "print('l1 -> ', l1)\n",
    "print('l2 -> ', l2)\n",
    "for i in range(len(l2)):\n",
    "    print('l1[%d] is l2[%d] -> ' % (i, i), l1[i] is l2[i])\n",
    "\n",
    "print('\\n')\n",
    "l2[1] += [33, 22]\n",
    "l2[2] += (10, 11)\n",
    "print('l1 -> ', l1)\n",
    "print('l2 -> ', l2)\n",
    "for i in range(len(l2)):\n",
    "    print('l1[%d] is l2[%d] -> ' % (i, i), l1[i] is l2[i])"
   ]
  },
  {
   "cell_type": "markdown",
   "metadata": {},
   "source": [
    "**示例8-8 校车乘客在途中上车和下车**"
   ]
  },
  {
   "cell_type": "code",
   "execution_count": 17,
   "metadata": {},
   "outputs": [],
   "source": [
    "class Bus:\n",
    "    def __init__(self, passengers=None):\n",
    "        if(passengers is None):\n",
    "            self.passengers = []\n",
    "        else:\n",
    "            self.passengers = list(passengers)\n",
    "    \n",
    "    def pick(self, name):\n",
    "        self.passengers.append(name)\n",
    "        \n",
    "    def drop(self, name):\n",
    "        self.passengers.remove(name)"
   ]
  },
  {
   "cell_type": "markdown",
   "metadata": {},
   "source": [
    "**示例8-9 使用copy和deepcopy产生的影响**"
   ]
  },
  {
   "cell_type": "code",
   "execution_count": 22,
   "metadata": {},
   "outputs": [
    {
     "name": "stdout",
     "output_type": "stream",
     "text": [
      "4552397768\n",
      "4552399672\n",
      "4552176752\n",
      "\n",
      "\n",
      "['Alice', 'Claire', 'David']\n",
      "['Alice', 'Bill', 'Claire', 'David']\n",
      "4552410184\n",
      "4552410184\n",
      "4554185352\n"
     ]
    }
   ],
   "source": [
    "from copy import copy, deepcopy\n",
    "\n",
    "bus1 = Bus(['Alice', 'Bill', 'Claire', 'David'])\n",
    "bus2 = copy(bus1)\n",
    "bus3 = deepcopy(bus1)\n",
    "\n",
    "print(id(bus1))\n",
    "print(id(bus2))\n",
    "print(id(bus3))\n",
    "\n",
    "print('\\n')\n",
    "bus1.drop('Bill')\n",
    "print(bus2.passengers)\n",
    "print(bus3.passengers)\n",
    "print(id(bus1.passengers))\n",
    "print(id(bus2.passengers))\n",
    "print(id(bus3.passengers))"
   ]
  },
  {
   "cell_type": "markdown",
   "metadata": {},
   "source": [
    "**示例8-10 循环引用**"
   ]
  },
  {
   "cell_type": "code",
   "execution_count": 24,
   "metadata": {},
   "outputs": [
    {
     "name": "stdout",
     "output_type": "stream",
     "text": [
      "[10, 20, [[...], 30]]\n",
      "[10, 20, [[...], 30]]\n"
     ]
    }
   ],
   "source": [
    "a = [10, 20]\n",
    "b = [a, 30]\n",
    "a.append(b)\n",
    "print(a)\n",
    "\n",
    "c = deepcopy(a)\n",
    "print(c)"
   ]
  },
  {
   "cell_type": "markdown",
   "metadata": {},
   "source": [
    "**示例8-11 函数可能会修改接收到的任何可变对象**"
   ]
  },
  {
   "cell_type": "code",
   "execution_count": 29,
   "metadata": {},
   "outputs": [
    {
     "name": "stdout",
     "output_type": "stream",
     "text": [
      "(x, y) ->  (4304955776, 4304955808)  ->  (1, 2)\n",
      "3\n",
      "(x, y) ->  (4304955776, 4304955808)  ->  (1, 2)\n",
      "\n",
      "\n",
      "(x, y) ->  (4549014088, 4553193928)  ->  ([1, 2], [3, 4])\n",
      "[1, 2, 3, 4]\n",
      "(x, y) ->  (4549014088, 4553193928)  ->  ([1, 2, 3, 4], [3, 4])\n",
      "\n",
      "\n",
      "(x, y) ->  (4554069832, 4552738568)  ->  ((10, 20), (30, 40))\n",
      "(10, 20, 30, 40)\n",
      "(x, y) ->  (4554069832, 4552738568)  ->  ((10, 20), (30, 40))\n",
      "\n",
      "\n"
     ]
    }
   ],
   "source": [
    "def f(a, b):\n",
    "    a += b\n",
    "    return a\n",
    "\n",
    "x, y = 1, 2\n",
    "print('(x, y) -> ', (id(x), id(y)), ' -> ', (x, y))\n",
    "print(f(x, y))\n",
    "print('(x, y) -> ', (id(x), id(y)), ' -> ',(x, y))\n",
    "print('\\n')\n",
    "\n",
    "x = [1, 2]\n",
    "y = [3, 4]\n",
    "print('(x, y) -> ', (id(x), id(y)), ' -> ',(x, y))\n",
    "print(f(x, y))\n",
    "print('(x, y) -> ', (id(x), id(y)), ' -> ',(x, y))\n",
    "print('\\n')\n",
    "\n",
    "x = (10, 20)\n",
    "y = (30, 40)\n",
    "print('(x, y) -> ', (id(x), id(y)), ' -> ',(x, y))\n",
    "print(f(x, y))\n",
    "print('(x, y) -> ', (id(x), id(y)), ' -> ',(x, y))\n",
    "print('\\n')"
   ]
  },
  {
   "cell_type": "markdown",
   "metadata": {},
   "source": [
    "**示例8-12 一个简单的类，说明可变默认值的危险**"
   ]
  },
  {
   "cell_type": "code",
   "execution_count": 30,
   "metadata": {},
   "outputs": [],
   "source": [
    "class HauntedBus:\n",
    "    def __init__(self, passengers=[]):\n",
    "        self.passengers = passengers\n",
    "    \n",
    "    def pick(self, name):\n",
    "        self.passengers.append(name)\n",
    "        \n",
    "    def drop(self, name):\n",
    "        self.passengers.remove(name)"
   ]
  },
  {
   "cell_type": "markdown",
   "metadata": {},
   "source": [
    "**示例8-13 测试**"
   ]
  },
  {
   "cell_type": "code",
   "execution_count": 31,
   "metadata": {},
   "outputs": [
    {
     "name": "stdout",
     "output_type": "stream",
     "text": [
      "['Alice', 'Bill']\n",
      "['Bill', 'Charlie']\n",
      "\n",
      "\n",
      "['Carrie']\n",
      "['Carrie']\n",
      "\n",
      "\n",
      "['Carrie', 'Dave']\n",
      "['Carrie', 'Dave']\n",
      "True\n"
     ]
    }
   ],
   "source": [
    "bus1 = HauntedBus(['Alice', 'Bill'])\n",
    "print(bus1.passengers)\n",
    "bus1.pick('Charlie')\n",
    "bus1.drop('Alice')\n",
    "print(bus1.passengers)\n",
    "print('\\n')\n",
    "\n",
    "bus2 = HauntedBus()\n",
    "bus2.pick('Carrie')\n",
    "bus3 = HauntedBus()\n",
    "print(bus2.passengers)\n",
    "print(bus3.passengers)\n",
    "print('\\n')\n",
    "\n",
    "bus3.pick('Dave')\n",
    "print(bus2.passengers)\n",
    "print(bus3.passengers)\n",
    "print(bus2.passengers is bus3.passengers)"
   ]
  },
  {
   "cell_type": "markdown",
   "metadata": {},
   "source": [
    "**示例8-15 一个简单的类，说明接受可变参数的风险**"
   ]
  },
  {
   "cell_type": "code",
   "execution_count": 37,
   "metadata": {},
   "outputs": [],
   "source": [
    "class TwilightBus:\n",
    "    def __init__(self, passengers=None):\n",
    "        if(passengers is None):\n",
    "            self.passengers = []\n",
    "        else:\n",
    "            self.passengers = passengers\n",
    "    \n",
    "    def pick(self, name):\n",
    "        self.passengers.append(name)\n",
    "        \n",
    "    def drop(self, name):\n",
    "        self.passengers.remove(name)"
   ]
  },
  {
   "cell_type": "markdown",
   "metadata": {},
   "source": [
    "**示例8-14 测试**"
   ]
  },
  {
   "cell_type": "code",
   "execution_count": 38,
   "metadata": {},
   "outputs": [
    {
     "name": "stdout",
     "output_type": "stream",
     "text": [
      "['Sue', 'Maya', 'Diana']\n",
      "['Sue', 'Maya', 'Diana']\n",
      "True\n"
     ]
    }
   ],
   "source": [
    "basketball_team = ['Sue', 'Tina', 'Maya', 'Diana', 'Pat']\n",
    "bus = TwilightBus(basketball_team)\n",
    "bus.drop('Tina')\n",
    "bus.drop('Pat')\n",
    "print(bus.passengers)\n",
    "print(basketball_team)\n",
    "print(bus.passengers is basketball_team)"
   ]
  },
  {
   "cell_type": "markdown",
   "metadata": {},
   "source": [
    "**示例8-16 没有指向对象的引用时，监视对象生命结束时的情形**"
   ]
  },
  {
   "cell_type": "code",
   "execution_count": 39,
   "metadata": {},
   "outputs": [
    {
     "name": "stdout",
     "output_type": "stream",
     "text": [
      "True\n",
      "True\n",
      "Gone!!!\n",
      "False\n"
     ]
    }
   ],
   "source": [
    "import weakref\n",
    "\n",
    "s1 = {1, 2, 3}\n",
    "s2 = s1\n",
    "def bye():\n",
    "    print('Gone!!!')\n",
    "    \n",
    "ender = weakref.finalize(s1, bye)\n",
    "print(ender.alive)\n",
    "del(s1)\n",
    "print(ender.alive)\n",
    "s2 = 'Spam'\n",
    "print(ender.alive)"
   ]
  },
  {
   "cell_type": "markdown",
   "metadata": {},
   "source": [
    "**示例8-17 弱引用**"
   ]
  },
  {
   "cell_type": "code",
   "execution_count": 40,
   "metadata": {},
   "outputs": [
    {
     "name": "stdout",
     "output_type": "stream",
     "text": [
      "<weakref at 0x10f647318; to 'set' at 0x10f3ed9e8>\n",
      "{0, 1}\n",
      "None\n",
      "True\n",
      "True\n"
     ]
    }
   ],
   "source": [
    "import weakref\n",
    "\n",
    "a_set = {0, 1}\n",
    "wref = weakref.ref(a_set)\n",
    "print(wref)\n",
    "print(wref())\n",
    "a_set = {2, 3, 4}\n",
    "print(wref())\n",
    "print(wref() is None)\n",
    "print(wref() is None)"
   ]
  },
  {
   "cell_type": "markdown",
   "metadata": {},
   "source": [
    "**示例8-18 Cheese有个kind属性和标准的字符串表示形式**"
   ]
  },
  {
   "cell_type": "code",
   "execution_count": 41,
   "metadata": {},
   "outputs": [],
   "source": [
    "class Cheese:\n",
    "    def __init__(self, kind):\n",
    "        self.kind = kind\n",
    "        \n",
    "    def __repr__(self):\n",
    "        return 'Cheese(%r)' % self.kind"
   ]
  },
  {
   "cell_type": "markdown",
   "metadata": {},
   "source": [
    "**示例8-19 测试**"
   ]
  },
  {
   "cell_type": "code",
   "execution_count": 42,
   "metadata": {},
   "outputs": [
    {
     "name": "stdout",
     "output_type": "stream",
     "text": [
      "['Brie', 'Parmesan', 'Red Leicester', 'Tilsit']\n",
      "['Parmesan']\n",
      "[]\n"
     ]
    }
   ],
   "source": [
    "import weakref\n",
    "\n",
    "stock = weakref.WeakValueDictionary()\n",
    "catalog = [Cheese('Red Leicester'), Cheese('Tilsit'), Cheese('Brie'), Cheese('Parmesan')]\n",
    "\n",
    "for cheese in catalog:\n",
    "    stock[cheese.kind] = cheese\n",
    "\n",
    "print(sorted(stock.keys()))\n",
    "del(catalog)\n",
    "print(sorted(stock.keys()))\n",
    "del(cheese)\n",
    "print(sorted(stock.keys()))"
   ]
  },
  {
   "cell_type": "markdown",
   "metadata": {},
   "source": [
    "**示例8-20 使用另一个元组构建元组，得到的其实是同一个元组**"
   ]
  },
  {
   "cell_type": "code",
   "execution_count": 44,
   "metadata": {},
   "outputs": [
    {
     "name": "stdout",
     "output_type": "stream",
     "text": [
      "True\n",
      "True\n"
     ]
    }
   ],
   "source": [
    "t1 = (1, 2, 3)\n",
    "t2 = tuple(t1)\n",
    "t3 = t1[:]\n",
    "print(t1 is t2)\n",
    "print(t1 is t3)"
   ]
  },
  {
   "cell_type": "markdown",
   "metadata": {},
   "source": [
    "**示例8-21 字符串字面量可能会创建共享的对象**"
   ]
  },
  {
   "cell_type": "code",
   "execution_count": 46,
   "metadata": {},
   "outputs": [
    {
     "name": "stdout",
     "output_type": "stream",
     "text": [
      "False\n",
      "True\n",
      "True\n"
     ]
    }
   ],
   "source": [
    "t1 = (1, 2, 3)\n",
    "t3 = (1, 2, 3)\n",
    "print(t1 is t3)\n",
    "\n",
    "s1 = 'ABC'\n",
    "s2 = 'ABC'\n",
    "print(s1 is s2)\n",
    "\n",
    "int1 = 1\n",
    "int2 = 1\n",
    "print(int1 is int2)"
   ]
  }
 ],
 "metadata": {
  "kernelspec": {
   "display_name": "Python 3",
   "language": "python",
   "name": "python3"
  },
  "language_info": {
   "codemirror_mode": {
    "name": "ipython",
    "version": 3
   },
   "file_extension": ".py",
   "mimetype": "text/x-python",
   "name": "python",
   "nbconvert_exporter": "python",
   "pygments_lexer": "ipython3",
   "version": "3.6.4"
  }
 },
 "nbformat": 4,
 "nbformat_minor": 2
}
